{
  "nbformat": 4,
  "nbformat_minor": 0,
  "metadata": {
    "colab": {
      "provenance": []
    },
    "kernelspec": {
      "name": "python3",
      "display_name": "Python 3"
    },
    "language_info": {
      "name": "python"
    }
  },
  "cells": [
    {
      "cell_type": "markdown",
      "source": [
        "#<center>**IMBD Movie Reviews Classification</center>**\n"
      ],
      "metadata": {
        "id": "GFkrwbjNH8zW"
      }
    },
    {
      "cell_type": "markdown",
      "source": [
        "###**Dataset Description:**\n",
        "\n",
        "This is a dataset for binary sentiment classification containing substantially more data than previous benchmark datasets.\n",
        "\n",
        "- **Review**\n",
        "- **Sentiment**\n",
        "  \n",
        "Link for the dataset [https://www.dropbox.com/s/dctsk9k67x2jgnb/imdb_labelled.txt](https://)"
      ],
      "metadata": {
        "id": "ZTphdv26IXjE"
      }
    },
    {
      "cell_type": "code",
      "execution_count": 1,
      "metadata": {
        "colab": {
          "base_uri": "https://localhost:8080/"
        },
        "id": "PmzqAkhL3a-W",
        "outputId": "2c9e9d10-3bc9-4282-feae-452be035b8dc"
      },
      "outputs": [
        {
          "output_type": "stream",
          "name": "stdout",
          "text": [
            "--2023-03-07 11:39:19--  https://www.dropbox.com/s/dctsk9k67x2jgnb/imdb_labelled.txt\n",
            "Resolving www.dropbox.com (www.dropbox.com)... 162.125.3.18, 2620:100:6018:18::a27d:312\n",
            "Connecting to www.dropbox.com (www.dropbox.com)|162.125.3.18|:443... connected.\n",
            "HTTP request sent, awaiting response... 302 Found\n",
            "Location: /s/raw/dctsk9k67x2jgnb/imdb_labelled.txt [following]\n",
            "--2023-03-07 11:39:19--  https://www.dropbox.com/s/raw/dctsk9k67x2jgnb/imdb_labelled.txt\n",
            "Reusing existing connection to www.dropbox.com:443.\n",
            "HTTP request sent, awaiting response... 302 Found\n",
            "Location: https://uc1938dc913cf59627f454edeb54.dl.dropboxusercontent.com/cd/0/inline/B3zcbD6GrAB0yzJxwOwwFKikkF1gcPEb9HAR-WjRuibOJj87Hvy4RkHrJA8tPqGJ9qOMU7ILBEK9IdGn9P-qxi0w8_u18vNITT37dgQ0bPiDbcK03rfeSbnczsM8C-kOtz-ikzhojdcZvNxMA1tZHdmt8O0zfBaqNp4syUIqIST1hA/file# [following]\n",
            "--2023-03-07 11:39:19--  https://uc1938dc913cf59627f454edeb54.dl.dropboxusercontent.com/cd/0/inline/B3zcbD6GrAB0yzJxwOwwFKikkF1gcPEb9HAR-WjRuibOJj87Hvy4RkHrJA8tPqGJ9qOMU7ILBEK9IdGn9P-qxi0w8_u18vNITT37dgQ0bPiDbcK03rfeSbnczsM8C-kOtz-ikzhojdcZvNxMA1tZHdmt8O0zfBaqNp4syUIqIST1hA/file\n",
            "Resolving uc1938dc913cf59627f454edeb54.dl.dropboxusercontent.com (uc1938dc913cf59627f454edeb54.dl.dropboxusercontent.com)... 162.125.8.15, 2620:100:6018:15::a27d:30f\n",
            "Connecting to uc1938dc913cf59627f454edeb54.dl.dropboxusercontent.com (uc1938dc913cf59627f454edeb54.dl.dropboxusercontent.com)|162.125.8.15|:443... connected.\n",
            "HTTP request sent, awaiting response... 200 OK\n",
            "Length: 85285 (83K) [text/plain]\n",
            "Saving to: ‘imdb_labelled.txt’\n",
            "\n",
            "imdb_labelled.txt   100%[===================>]  83.29K  --.-KB/s    in 0.03s   \n",
            "\n",
            "2023-03-07 11:39:20 (2.44 MB/s) - ‘imdb_labelled.txt’ saved [85285/85285]\n",
            "\n"
          ]
        }
      ],
      "source": [
        "!wget https://www.dropbox.com/s/dctsk9k67x2jgnb/imdb_labelled.txt"
      ]
    },
    {
      "cell_type": "markdown",
      "source": [
        "## Importing the Libraries"
      ],
      "metadata": {
        "id": "2873e2jsJLJs"
      }
    },
    {
      "cell_type": "code",
      "source": [
        "import numpy as np\n",
        "import pandas as pd\n",
        "import spacy\n",
        "from sklearn.pipeline import Pipeline\n",
        "from sklearn.feature_extraction.text import TfidfVectorizer\n",
        "from sklearn.metrics import accuracy_score, classification_report,confusion_matrix\n",
        "from sklearn.model_selection import train_test_split\n",
        "\n",
        "nlp = spacy.load('en_core_web_sm')"
      ],
      "metadata": {
        "id": "kxlcTosU3cGL"
      },
      "execution_count": 3,
      "outputs": []
    },
    {
      "cell_type": "code",
      "source": [
        "data = pd.read_csv('/content/imdb_labelled.txt', sep = '\\t', header=None, names=['Reviews', 'Sentiment'])\n",
        "data.head()"
      ],
      "metadata": {
        "colab": {
          "base_uri": "https://localhost:8080/",
          "height": 206
        },
        "id": "H2JMrNBi4VbJ",
        "outputId": "fe7b51a9-c395-4710-c373-b07ae3d59aff"
      },
      "execution_count": 6,
      "outputs": [
        {
          "output_type": "execute_result",
          "data": {
            "text/plain": [
              "                                             Reviews  Sentiment\n",
              "0  A very, very, very slow-moving, aimless movie ...          0\n",
              "1  Not sure who was more lost - the flat characte...          0\n",
              "2  Attempting artiness with black & white and cle...          0\n",
              "3       Very little music or anything to speak of.            0\n",
              "4  The best scene in the movie was when Gerardo i...          1"
            ],
            "text/html": [
              "\n",
              "  <div id=\"df-f5c2bf2a-138f-413e-8b32-10d37a6c40a7\">\n",
              "    <div class=\"colab-df-container\">\n",
              "      <div>\n",
              "<style scoped>\n",
              "    .dataframe tbody tr th:only-of-type {\n",
              "        vertical-align: middle;\n",
              "    }\n",
              "\n",
              "    .dataframe tbody tr th {\n",
              "        vertical-align: top;\n",
              "    }\n",
              "\n",
              "    .dataframe thead th {\n",
              "        text-align: right;\n",
              "    }\n",
              "</style>\n",
              "<table border=\"1\" class=\"dataframe\">\n",
              "  <thead>\n",
              "    <tr style=\"text-align: right;\">\n",
              "      <th></th>\n",
              "      <th>Reviews</th>\n",
              "      <th>Sentiment</th>\n",
              "    </tr>\n",
              "  </thead>\n",
              "  <tbody>\n",
              "    <tr>\n",
              "      <th>0</th>\n",
              "      <td>A very, very, very slow-moving, aimless movie ...</td>\n",
              "      <td>0</td>\n",
              "    </tr>\n",
              "    <tr>\n",
              "      <th>1</th>\n",
              "      <td>Not sure who was more lost - the flat characte...</td>\n",
              "      <td>0</td>\n",
              "    </tr>\n",
              "    <tr>\n",
              "      <th>2</th>\n",
              "      <td>Attempting artiness with black &amp; white and cle...</td>\n",
              "      <td>0</td>\n",
              "    </tr>\n",
              "    <tr>\n",
              "      <th>3</th>\n",
              "      <td>Very little music or anything to speak of.</td>\n",
              "      <td>0</td>\n",
              "    </tr>\n",
              "    <tr>\n",
              "      <th>4</th>\n",
              "      <td>The best scene in the movie was when Gerardo i...</td>\n",
              "      <td>1</td>\n",
              "    </tr>\n",
              "  </tbody>\n",
              "</table>\n",
              "</div>\n",
              "      <button class=\"colab-df-convert\" onclick=\"convertToInteractive('df-f5c2bf2a-138f-413e-8b32-10d37a6c40a7')\"\n",
              "              title=\"Convert this dataframe to an interactive table.\"\n",
              "              style=\"display:none;\">\n",
              "        \n",
              "  <svg xmlns=\"http://www.w3.org/2000/svg\" height=\"24px\"viewBox=\"0 0 24 24\"\n",
              "       width=\"24px\">\n",
              "    <path d=\"M0 0h24v24H0V0z\" fill=\"none\"/>\n",
              "    <path d=\"M18.56 5.44l.94 2.06.94-2.06 2.06-.94-2.06-.94-.94-2.06-.94 2.06-2.06.94zm-11 1L8.5 8.5l.94-2.06 2.06-.94-2.06-.94L8.5 2.5l-.94 2.06-2.06.94zm10 10l.94 2.06.94-2.06 2.06-.94-2.06-.94-.94-2.06-.94 2.06-2.06.94z\"/><path d=\"M17.41 7.96l-1.37-1.37c-.4-.4-.92-.59-1.43-.59-.52 0-1.04.2-1.43.59L10.3 9.45l-7.72 7.72c-.78.78-.78 2.05 0 2.83L4 21.41c.39.39.9.59 1.41.59.51 0 1.02-.2 1.41-.59l7.78-7.78 2.81-2.81c.8-.78.8-2.07 0-2.86zM5.41 20L4 18.59l7.72-7.72 1.47 1.35L5.41 20z\"/>\n",
              "  </svg>\n",
              "      </button>\n",
              "      \n",
              "  <style>\n",
              "    .colab-df-container {\n",
              "      display:flex;\n",
              "      flex-wrap:wrap;\n",
              "      gap: 12px;\n",
              "    }\n",
              "\n",
              "    .colab-df-convert {\n",
              "      background-color: #E8F0FE;\n",
              "      border: none;\n",
              "      border-radius: 50%;\n",
              "      cursor: pointer;\n",
              "      display: none;\n",
              "      fill: #1967D2;\n",
              "      height: 32px;\n",
              "      padding: 0 0 0 0;\n",
              "      width: 32px;\n",
              "    }\n",
              "\n",
              "    .colab-df-convert:hover {\n",
              "      background-color: #E2EBFA;\n",
              "      box-shadow: 0px 1px 2px rgba(60, 64, 67, 0.3), 0px 1px 3px 1px rgba(60, 64, 67, 0.15);\n",
              "      fill: #174EA6;\n",
              "    }\n",
              "\n",
              "    [theme=dark] .colab-df-convert {\n",
              "      background-color: #3B4455;\n",
              "      fill: #D2E3FC;\n",
              "    }\n",
              "\n",
              "    [theme=dark] .colab-df-convert:hover {\n",
              "      background-color: #434B5C;\n",
              "      box-shadow: 0px 1px 3px 1px rgba(0, 0, 0, 0.15);\n",
              "      filter: drop-shadow(0px 1px 2px rgba(0, 0, 0, 0.3));\n",
              "      fill: #FFFFFF;\n",
              "    }\n",
              "  </style>\n",
              "\n",
              "      <script>\n",
              "        const buttonEl =\n",
              "          document.querySelector('#df-f5c2bf2a-138f-413e-8b32-10d37a6c40a7 button.colab-df-convert');\n",
              "        buttonEl.style.display =\n",
              "          google.colab.kernel.accessAllowed ? 'block' : 'none';\n",
              "\n",
              "        async function convertToInteractive(key) {\n",
              "          const element = document.querySelector('#df-f5c2bf2a-138f-413e-8b32-10d37a6c40a7');\n",
              "          const dataTable =\n",
              "            await google.colab.kernel.invokeFunction('convertToInteractive',\n",
              "                                                     [key], {});\n",
              "          if (!dataTable) return;\n",
              "\n",
              "          const docLinkHtml = 'Like what you see? Visit the ' +\n",
              "            '<a target=\"_blank\" href=https://colab.research.google.com/notebooks/data_table.ipynb>data table notebook</a>'\n",
              "            + ' to learn more about interactive tables.';\n",
              "          element.innerHTML = '';\n",
              "          dataTable['output_type'] = 'display_data';\n",
              "          await google.colab.output.renderOutput(dataTable, element);\n",
              "          const docLink = document.createElement('div');\n",
              "          docLink.innerHTML = docLinkHtml;\n",
              "          element.appendChild(docLink);\n",
              "        }\n",
              "      </script>\n",
              "    </div>\n",
              "  </div>\n",
              "  "
            ]
          },
          "metadata": {},
          "execution_count": 6
        }
      ]
    },
    {
      "cell_type": "markdown",
      "source": [
        "###**Data pre-processing** "
      ],
      "metadata": {
        "id": "FZN051CsJQNM"
      }
    },
    {
      "cell_type": "code",
      "source": [
        "from spacy.lang.en.stop_words import STOP_WORDS\n",
        "import string\n",
        "punct = string.punctuation\n",
        "stop_words = list(STOP_WORDS)\n",
        "print(\"STOP WORDS : \",stop_words)\n",
        "print(\"Punctuations : \", punct)"
      ],
      "metadata": {
        "colab": {
          "base_uri": "https://localhost:8080/"
        },
        "id": "aarpNpue5jCv",
        "outputId": "0eaf808f-d955-41a6-891c-b9b0b8bf02c8"
      },
      "execution_count": 8,
      "outputs": [
        {
          "output_type": "stream",
          "name": "stdout",
          "text": [
            "STOP WORDS :  ['others', 'which', 'whereby', 'on', 'anyway', 'thus', 'below', 'always', 'does', 'you', 'of', 'me', 'just', 'too', 'thereby', 'not', 'hereupon', 'were', 'several', 'same', 'elsewhere', 'sixty', 'becomes', 'except', 'something', 'once', 'beforehand', 'during', 'yours', 'nevertheless', 'towards', 'third', 'please', 'can', 'every', 'he', 'see', 'whereupon', 'made', 'unless', 'i', 'only', 'them', 'hereafter', 'such', 'everything', 'between', '’m', 'move', 'the', 'either', 'becoming', 'anyhow', 'amount', 'one', 'around', 'first', 'an', 'beside', 'doing', 'some', 'used', 'toward', 'us', 'might', 'ever', 'fifty', 'own', 'mostly', 'somewhere', 'therein', 'up', 'already', 'whoever', 'noone', 'became', 'two', 'where', 'hereby', 'we', 'this', 'become', 'when', 'whereas', 'have', 'who', 'per', 'less', 'yet', '‘s', 'various', 'him', 'had', '’re', 'with', 'beyond', 'latter', 'do', 'though', 'twenty', 'again', 'about', '’s', 'serious', 'name', 'next', 'through', 'nothing', 'whatever', 'via', 'whether', 'throughout', 'perhaps', 'very', 'done', 'down', 'while', 'across', 'many', '‘re', 'why', \"'d\", 'make', 'cannot', 'part', 'ca', 'never', 'been', 'into', 'a', 'both', 'then', 'hence', '‘d', 'empty', 'top', 'itself', 'enough', 'twelve', 'but', 'ours', 'take', 'are', 'than', 'get', 'she', '’d', 'whither', 'they', 'most', 'by', 'bottom', 'full', 'side', 'whose', 'say', 'nobody', 'ten', 'moreover', 'here', 'somehow', \"'re\", 'four', 'whom', 'thence', 'is', 'because', 'to', 'formerly', 'nine', 'anyone', 'former', 'afterwards', 'everyone', 'himself', 'meanwhile', 'if', 'will', 'would', 'whole', 'what', 'rather', 'still', 'few', 'it', 'whence', 'being', 'seems', 'wherever', \"'m\", 'at', 'however', 'should', 'using', 'these', 'those', 'there', 'all', 'even', 'eleven', 'upon', 'more', 'from', 'myself', 'keep', '‘m', '‘ll', 'seem', 'therefore', 'six', 'did', 'amongst', 'any', 'hundred', 'in', 'almost', 'seeming', 'our', 'alone', 'besides', 'since', 'his', 'among', 'that', 'could', 'over', 'else', 'whereafter', 'without', 'off', 'under', 'be', 'yourself', 'sometime', 'your', 'her', 'neither', 'fifteen', 'so', 'or', 'give', '’ve', 'last', '’ll', 'how', 'ourselves', 'go', 'really', 'three', 'until', 'nor', 'has', 'above', 'call', 'show', 'well', 'after', 'was', 'seemed', 'my', 'n‘t', 'yourselves', 'thru', 'may', 'otherwise', 'front', 'its', 'as', 'further', 'eight', \"'s\", 'thereafter', 'indeed', 'before', 'themselves', 'am', 'back', 'out', 'onto', 'herein', 'much', 'anything', 'hers', 'put', 'behind', 'sometimes', 'regarding', 'no', 'whenever', 'least', 'together', '‘ve', 'other', 'their', 'must', 'although', 'for', 'another', 'wherein', 'herself', 'within', 'latterly', 'someone', 'and', 'mine', 'along', 'against', 'also', 'nowhere', \"'ve\", 'forty', \"n't\", 'each', 'none', 'due', 'now', 're', 'quite', \"'ll\", 'namely', 'five', 'thereupon', 'everywhere', 'often', 'anywhere', 'n’t']\n",
            "Punctuations :  !\"#$%&'()*+,-./:;<=>?@[\\]^_`{|}~\n"
          ]
        }
      ]
    },
    {
      "cell_type": "code",
      "source": [
        "def data_cleaning(sentence):\n",
        "  doc = nlp(sentence)\n",
        "  cleaned_token = []\n",
        "  for token in doc:\n",
        "    if token.lemma_ != \"-PRON-\":\n",
        "      word = token.lemma_.lower().strip()\n",
        "    else:\n",
        "      word = token.lower_\n",
        "    if (word not in punct) and (word not in stop_words):\n",
        "      cleaned_token.append(word)\n",
        "  return cleaned_token\n",
        "tfidf = TfidfVectorizer(tokenizer=data_cleaning) "
      ],
      "metadata": {
        "id": "PkyTpzNT6cG6"
      },
      "execution_count": 10,
      "outputs": []
    },
    {
      "cell_type": "code",
      "source": [
        "X = data['Reviews']\n",
        "y = data['Sentiment']\n",
        "X_train, X_test, y_train, y_test = train_test_split(X,y,test_size=0.2, random_state = 42)\n"
      ],
      "metadata": {
        "id": "WgJlSg948JX4"
      },
      "execution_count": 11,
      "outputs": []
    },
    {
      "cell_type": "markdown",
      "source": [
        "###**Creating the pipeline and fitting the model**"
      ],
      "metadata": {
        "id": "teczEwOwJVQE"
      }
    },
    {
      "cell_type": "code",
      "source": [
        "from sklearn.svm import LinearSVC\n",
        "svm = LinearSVC()\n",
        "\n",
        "clf = Pipeline([('tfidf',tfidf),('svm',svm)])"
      ],
      "metadata": {
        "id": "Y_EmJxSH8fQJ"
      },
      "execution_count": 13,
      "outputs": []
    },
    {
      "cell_type": "code",
      "source": [
        "clf.fit(X_train, y_train)"
      ],
      "metadata": {
        "colab": {
          "base_uri": "https://localhost:8080/",
          "height": 179
        },
        "id": "r7sdbeLd9AbO",
        "outputId": "29bf9663-eaf2-4b34-f133-90c7dd0b1dcf"
      },
      "execution_count": 15,
      "outputs": [
        {
          "output_type": "stream",
          "name": "stderr",
          "text": [
            "/usr/local/lib/python3.8/dist-packages/sklearn/feature_extraction/text.py:528: UserWarning: The parameter 'token_pattern' will not be used since 'tokenizer' is not None'\n",
            "  warnings.warn(\n"
          ]
        },
        {
          "output_type": "execute_result",
          "data": {
            "text/plain": [
              "Pipeline(steps=[('tfidf',\n",
              "                 TfidfVectorizer(tokenizer=<function data_cleaning at 0x7f3e4fbc1d30>)),\n",
              "                ('svm', LinearSVC())])"
            ],
            "text/html": [
              "<style>#sk-container-id-1 {color: black;background-color: white;}#sk-container-id-1 pre{padding: 0;}#sk-container-id-1 div.sk-toggleable {background-color: white;}#sk-container-id-1 label.sk-toggleable__label {cursor: pointer;display: block;width: 100%;margin-bottom: 0;padding: 0.3em;box-sizing: border-box;text-align: center;}#sk-container-id-1 label.sk-toggleable__label-arrow:before {content: \"▸\";float: left;margin-right: 0.25em;color: #696969;}#sk-container-id-1 label.sk-toggleable__label-arrow:hover:before {color: black;}#sk-container-id-1 div.sk-estimator:hover label.sk-toggleable__label-arrow:before {color: black;}#sk-container-id-1 div.sk-toggleable__content {max-height: 0;max-width: 0;overflow: hidden;text-align: left;background-color: #f0f8ff;}#sk-container-id-1 div.sk-toggleable__content pre {margin: 0.2em;color: black;border-radius: 0.25em;background-color: #f0f8ff;}#sk-container-id-1 input.sk-toggleable__control:checked~div.sk-toggleable__content {max-height: 200px;max-width: 100%;overflow: auto;}#sk-container-id-1 input.sk-toggleable__control:checked~label.sk-toggleable__label-arrow:before {content: \"▾\";}#sk-container-id-1 div.sk-estimator input.sk-toggleable__control:checked~label.sk-toggleable__label {background-color: #d4ebff;}#sk-container-id-1 div.sk-label input.sk-toggleable__control:checked~label.sk-toggleable__label {background-color: #d4ebff;}#sk-container-id-1 input.sk-hidden--visually {border: 0;clip: rect(1px 1px 1px 1px);clip: rect(1px, 1px, 1px, 1px);height: 1px;margin: -1px;overflow: hidden;padding: 0;position: absolute;width: 1px;}#sk-container-id-1 div.sk-estimator {font-family: monospace;background-color: #f0f8ff;border: 1px dotted black;border-radius: 0.25em;box-sizing: border-box;margin-bottom: 0.5em;}#sk-container-id-1 div.sk-estimator:hover {background-color: #d4ebff;}#sk-container-id-1 div.sk-parallel-item::after {content: \"\";width: 100%;border-bottom: 1px solid gray;flex-grow: 1;}#sk-container-id-1 div.sk-label:hover label.sk-toggleable__label {background-color: #d4ebff;}#sk-container-id-1 div.sk-serial::before {content: \"\";position: absolute;border-left: 1px solid gray;box-sizing: border-box;top: 0;bottom: 0;left: 50%;z-index: 0;}#sk-container-id-1 div.sk-serial {display: flex;flex-direction: column;align-items: center;background-color: white;padding-right: 0.2em;padding-left: 0.2em;position: relative;}#sk-container-id-1 div.sk-item {position: relative;z-index: 1;}#sk-container-id-1 div.sk-parallel {display: flex;align-items: stretch;justify-content: center;background-color: white;position: relative;}#sk-container-id-1 div.sk-item::before, #sk-container-id-1 div.sk-parallel-item::before {content: \"\";position: absolute;border-left: 1px solid gray;box-sizing: border-box;top: 0;bottom: 0;left: 50%;z-index: -1;}#sk-container-id-1 div.sk-parallel-item {display: flex;flex-direction: column;z-index: 1;position: relative;background-color: white;}#sk-container-id-1 div.sk-parallel-item:first-child::after {align-self: flex-end;width: 50%;}#sk-container-id-1 div.sk-parallel-item:last-child::after {align-self: flex-start;width: 50%;}#sk-container-id-1 div.sk-parallel-item:only-child::after {width: 0;}#sk-container-id-1 div.sk-dashed-wrapped {border: 1px dashed gray;margin: 0 0.4em 0.5em 0.4em;box-sizing: border-box;padding-bottom: 0.4em;background-color: white;}#sk-container-id-1 div.sk-label label {font-family: monospace;font-weight: bold;display: inline-block;line-height: 1.2em;}#sk-container-id-1 div.sk-label-container {text-align: center;}#sk-container-id-1 div.sk-container {/* jupyter's `normalize.less` sets `[hidden] { display: none; }` but bootstrap.min.css set `[hidden] { display: none !important; }` so we also need the `!important` here to be able to override the default hidden behavior on the sphinx rendered scikit-learn.org. See: https://github.com/scikit-learn/scikit-learn/issues/21755 */display: inline-block !important;position: relative;}#sk-container-id-1 div.sk-text-repr-fallback {display: none;}</style><div id=\"sk-container-id-1\" class=\"sk-top-container\"><div class=\"sk-text-repr-fallback\"><pre>Pipeline(steps=[(&#x27;tfidf&#x27;,\n",
              "                 TfidfVectorizer(tokenizer=&lt;function data_cleaning at 0x7f3e4fbc1d30&gt;)),\n",
              "                (&#x27;svm&#x27;, LinearSVC())])</pre><b>In a Jupyter environment, please rerun this cell to show the HTML representation or trust the notebook. <br />On GitHub, the HTML representation is unable to render, please try loading this page with nbviewer.org.</b></div><div class=\"sk-container\" hidden><div class=\"sk-item sk-dashed-wrapped\"><div class=\"sk-label-container\"><div class=\"sk-label sk-toggleable\"><input class=\"sk-toggleable__control sk-hidden--visually\" id=\"sk-estimator-id-1\" type=\"checkbox\" ><label for=\"sk-estimator-id-1\" class=\"sk-toggleable__label sk-toggleable__label-arrow\">Pipeline</label><div class=\"sk-toggleable__content\"><pre>Pipeline(steps=[(&#x27;tfidf&#x27;,\n",
              "                 TfidfVectorizer(tokenizer=&lt;function data_cleaning at 0x7f3e4fbc1d30&gt;)),\n",
              "                (&#x27;svm&#x27;, LinearSVC())])</pre></div></div></div><div class=\"sk-serial\"><div class=\"sk-item\"><div class=\"sk-estimator sk-toggleable\"><input class=\"sk-toggleable__control sk-hidden--visually\" id=\"sk-estimator-id-2\" type=\"checkbox\" ><label for=\"sk-estimator-id-2\" class=\"sk-toggleable__label sk-toggleable__label-arrow\">TfidfVectorizer</label><div class=\"sk-toggleable__content\"><pre>TfidfVectorizer(tokenizer=&lt;function data_cleaning at 0x7f3e4fbc1d30&gt;)</pre></div></div></div><div class=\"sk-item\"><div class=\"sk-estimator sk-toggleable\"><input class=\"sk-toggleable__control sk-hidden--visually\" id=\"sk-estimator-id-3\" type=\"checkbox\" ><label for=\"sk-estimator-id-3\" class=\"sk-toggleable__label sk-toggleable__label-arrow\">LinearSVC</label><div class=\"sk-toggleable__content\"><pre>LinearSVC()</pre></div></div></div></div></div></div></div>"
            ]
          },
          "metadata": {},
          "execution_count": 15
        }
      ]
    },
    {
      "cell_type": "markdown",
      "source": [
        "###**Model Evaluation**"
      ],
      "metadata": {
        "id": "RZgOHr8XJY27"
      }
    },
    {
      "cell_type": "code",
      "source": [
        "y_pred = clf.predict(X_test)"
      ],
      "metadata": {
        "id": "627u9g2I9Ht2"
      },
      "execution_count": 17,
      "outputs": []
    },
    {
      "cell_type": "code",
      "source": [
        "acc = accuracy_score(y_test,y_pred)\n",
        "print(acc)"
      ],
      "metadata": {
        "colab": {
          "base_uri": "https://localhost:8080/"
        },
        "id": "ieh43y6w9V5d",
        "outputId": "20518268-f568-4f3a-baf3-f2475034a0d0"
      },
      "execution_count": 19,
      "outputs": [
        {
          "output_type": "stream",
          "name": "stdout",
          "text": [
            "0.8133333333333334\n"
          ]
        }
      ]
    },
    {
      "cell_type": "code",
      "source": [
        "confusion_matrix(y_test, y_pred)"
      ],
      "metadata": {
        "colab": {
          "base_uri": "https://localhost:8080/"
        },
        "id": "B1l7QWRX9ecf",
        "outputId": "1a01a3d0-0276-4a2f-c23a-54cc6b411814"
      },
      "execution_count": 20,
      "outputs": [
        {
          "output_type": "execute_result",
          "data": {
            "text/plain": [
              "array([[62, 14],\n",
              "       [14, 60]])"
            ]
          },
          "metadata": {},
          "execution_count": 20
        }
      ]
    },
    {
      "cell_type": "code",
      "source": [
        "report = classification_report(y_test, y_pred)"
      ],
      "metadata": {
        "id": "hWpkaoWn9oUI"
      },
      "execution_count": 25,
      "outputs": []
    },
    {
      "cell_type": "code",
      "source": [
        "print(report)"
      ],
      "metadata": {
        "colab": {
          "base_uri": "https://localhost:8080/"
        },
        "id": "cP2ECI-QBh6F",
        "outputId": "c3a0bcb9-6772-43ad-f1d2-b4e0e5ebff2d"
      },
      "execution_count": 36,
      "outputs": [
        {
          "output_type": "stream",
          "name": "stdout",
          "text": [
            "              precision    recall  f1-score   support\n",
            "\n",
            "           0       0.82      0.82      0.82        76\n",
            "           1       0.81      0.81      0.81        74\n",
            "\n",
            "    accuracy                           0.81       150\n",
            "   macro avg       0.81      0.81      0.81       150\n",
            "weighted avg       0.81      0.81      0.81       150\n",
            "\n"
          ]
        }
      ]
    },
    {
      "cell_type": "markdown",
      "source": [
        "## **Movie Prediction for TOP GUN MAVERICK**"
      ],
      "metadata": {
        "id": "3blXDazIC5B0"
      }
    },
    {
      "cell_type": "code",
      "source": [
        "clf.predict([\"\"\"If there's any movie that deserves to be seen in the theaters with big screens and booming speakers. It's :Top Gun Maverick.\n",
        "\n",
        "One of my best experiences in years!\n",
        "\"\"\"])"
      ],
      "metadata": {
        "colab": {
          "base_uri": "https://localhost:8080/"
        },
        "id": "iryCtNdaB_LK",
        "outputId": "42a2b068-0d84-4324-cf60-722cb545f08a"
      },
      "execution_count": 45,
      "outputs": [
        {
          "output_type": "execute_result",
          "data": {
            "text/plain": [
              "array([1])"
            ]
          },
          "metadata": {},
          "execution_count": 45
        }
      ]
    },
    {
      "cell_type": "markdown",
      "source": [
        "## **Movie Prediction for Bharamastra 😲**"
      ],
      "metadata": {
        "id": "b8lnDX_pDAjs"
      }
    },
    {
      "cell_type": "code",
      "source": [
        "clf.predict([\"\"\"I went to see first day first show! Was excited for movie but it was really a waste of time. It is almost like a cheap marvel copy and nothing more. Its just a love story with vfx. Not satisfied at all. Must work hard for next adition to this triology and not copy marvel characters and even shots. The vfx is not bad but its almost same like any superhero movie. Ranbir and alia are okay and not in full form. Music is also copied from other songs of pritam himself. So, public can figure out if they are getting what they were promised or not. Here, definitely I personally ended up in disappointment!\"\"\"])"
      ],
      "metadata": {
        "colab": {
          "base_uri": "https://localhost:8080/"
        },
        "id": "P1AKx3wuCqzV",
        "outputId": "f477c439-20f7-4d1c-f695-da4fac32cd95"
      },
      "execution_count": 47,
      "outputs": [
        {
          "output_type": "execute_result",
          "data": {
            "text/plain": [
              "array([0])"
            ]
          },
          "metadata": {},
          "execution_count": 47
        }
      ]
    },
    {
      "cell_type": "code",
      "source": [],
      "metadata": {
        "id": "iXLDhXvcDY9K"
      },
      "execution_count": null,
      "outputs": []
    }
  ]
}